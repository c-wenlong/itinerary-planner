{
 "cells": [
  {
   "cell_type": "markdown",
   "metadata": {},
   "source": [
    "LLM takes in user data & recommends \"sessions\" to the users -> pass into vector database to fetch real sessions. We first initialise our API Keys."
   ]
  },
  {
   "cell_type": "code",
   "execution_count": 12,
   "metadata": {},
   "outputs": [
    {
     "data": {
      "text/plain": [
       "True"
      ]
     },
     "execution_count": 12,
     "metadata": {},
     "output_type": "execute_result"
    }
   ],
   "source": [
    "import os\n",
    "from dotenv import load_dotenv\n",
    "\n",
    "load_dotenv()"
   ]
  },
  {
   "cell_type": "markdown",
   "metadata": {},
   "source": [
    "Then, we will initialise our vector DB client, the first query will take about 20 seconds as there will be authentication, subsequent queries will be much shorter."
   ]
  },
  {
   "cell_type": "code",
   "execution_count": 21,
   "metadata": {},
   "outputs": [
    {
     "name": "stdout",
     "output_type": "stream",
     "text": [
      "collections=[CollectionDescription(name='midjourney'), CollectionDescription(name='star_charts'), CollectionDescription(name='aflow_sessions'), CollectionDescription(name='singapore_events')]\n"
     ]
    }
   ],
   "source": [
    "from qdrant_client import QdrantClient, models\n",
    "\n",
    "QDRANT_URL=os.getenv(\"QDRANT_URL\")\n",
    "QDRANT_API_KEY=os.getenv(\"QDRANT_API_KEY\")\n",
    "COLLECTION_NAME=\"singapore_events\"\n",
    "\n",
    "qdrant_client = QdrantClient(\n",
    "\turl=QDRANT_URL, \n",
    "\tapi_key=QDRANT_API_KEY,\n",
    ")\n",
    "\n",
    "print(qdrant_client.get_collections())"
   ]
  },
  {
   "cell_type": "markdown",
   "metadata": {},
   "source": [
    "Now, we create a method to embed the artist's profile and a fetch method to fetch the data."
   ]
  },
  {
   "cell_type": "code",
   "execution_count": 14,
   "metadata": {},
   "outputs": [],
   "source": [
    "from openai import OpenAI\n",
    "openai_client = OpenAI()\n",
    "openai_client.api_key=os.getenv(\"OPENAI_API_KEY\")"
   ]
  },
  {
   "cell_type": "code",
   "execution_count": 25,
   "metadata": {},
   "outputs": [],
   "source": [
    "def text_to_embedding(text):\n",
    "    embeddings = openai_client.embeddings.create(\n",
    "        model=\"text-embedding-3-small\",\n",
    "        input=text,\n",
    "        encoding_format=\"float\"\n",
    "    )\n",
    "    return embeddings.data[0].embedding\n",
    "\n",
    "def fetch_recommended_entities(query_entity, collection_name=COLLECTION_NAME, limit=5):\n",
    "    query_embedding = text_to_embedding(query_entity)\n",
    "    similar_entities = qdrant_client.search(\n",
    "        collection_name=collection_name,\n",
    "        query_vector=query_embedding,\n",
    "        limit=limit\n",
    "    )\n",
    "    return [entity.payload for entity in similar_entities]"
   ]
  },
  {
   "cell_type": "markdown",
   "metadata": {},
   "source": [
    "Now lets test the accuracy of these queries. First, we upload the session metadata as embeddings into our vector database."
   ]
  },
  {
   "cell_type": "code",
   "execution_count": 16,
   "metadata": {},
   "outputs": [
    {
     "name": "stdout",
     "output_type": "stream",
     "text": [
      "{'events': [{'id': 'dance001', 'name': 'Contemporary Dance Workshop', 'category': 'dance', 'subcategory': 'contemporary', 'description': 'Professional contemporary dance workshop for intermediate dancers focusing on technique and expression', 'location': 'Goodman Arts Centre', 'area': 'East Coast', 'price_range': '$$', 'actual_price': 75, 'duration_hours': 3, 'suitable_for': ['young_adults', 'adults'], 'intensity_level': 'moderate', 'tags': ['dance', 'workshop', 'contemporary', 'arts']}, {'id': 'dance002', 'name': 'K-Pop Dance Class', 'category': 'dance', 'subcategory': 'kpop', 'description': 'Learn popular K-pop choreographies in this high-energy class', 'location': 'O School', 'area': 'Somerset', 'price_range': '$', 'actual_price': 35, 'duration_hours': 1.5, 'suitable_for': ['teenagers', 'young_adults'], 'intensity_level': 'high', 'tags': ['dance', 'kpop', 'exercise']}, {'id': 'dance003', 'name': 'Street Dance Basics', 'category': 'dance', 'subcategory': 'street', 'description': 'Introduction to hip-hop and street dance fundamentals', 'location': 'Far East Plaza', 'area': 'Orchard', 'price_range': '$', 'actual_price': 30, 'duration_hours': 2, 'suitable_for': ['beginners', 'young_adults'], 'intensity_level': 'moderate', 'tags': ['dance', 'hip-hop', 'street']}, {'id': 'dance004', 'name': 'Ballet for Beginners', 'category': 'dance', 'subcategory': 'ballet', 'description': 'Introduction to classical ballet techniques and posture', 'location': 'Singapore Dance Theatre', 'area': 'Bugis', 'price_range': '$$', 'actual_price': 80, 'duration_hours': 1.5, 'suitable_for': ['beginners', 'young_adults'], 'intensity_level': 'moderate', 'tags': ['dance', 'ballet', 'classical']}, {'id': 'dance005', 'name': 'Salsa Social Night', 'category': 'dance', 'subcategory': 'latin', 'description': 'Social dancing night featuring salsa, bachata, and merengue', 'location': 'Cuba Libre', 'area': 'Clarke Quay', 'price_range': '$', 'actual_price': 25, 'duration_hours': 4, 'suitable_for': ['young_adults', 'adults'], 'intensity_level': 'moderate', 'tags': ['dance', 'latin', 'social']}, {'id': 'food001', 'name': 'Hawker Culture Food Tour', 'category': 'food', 'subcategory': 'local_cuisine', 'description': 'Guided tour of famous hawker stalls in Tiong Bahru', 'location': 'Tiong Bahru Market', 'area': 'Tiong Bahru', 'price_range': '$$', 'actual_price': 85, 'duration_hours': 4, 'suitable_for': ['all_ages'], 'intensity_level': 'low', 'tags': ['food', 'local', 'cultural']}, {'id': 'food002', 'name': 'Dim Sum Making Class', 'category': 'food', 'subcategory': 'cooking_class', 'description': 'Learn to make traditional dim sum dishes', 'location': 'ToTT Store', 'area': 'Dunearn', 'price_range': '$$$', 'actual_price': 120, 'duration_hours': 3, 'suitable_for': ['adults'], 'intensity_level': 'moderate', 'tags': ['cooking', 'chinese', 'hands-on']}, {'id': 'food003', 'name': 'Craft Beer Tasting', 'category': 'food', 'subcategory': 'beverages', 'description': 'Guided tasting of local craft beers', 'location': 'Level33', 'area': 'Marina Bay', 'price_range': '$$', 'actual_price': 68, 'duration_hours': 2, 'suitable_for': ['adults'], 'intensity_level': 'low', 'tags': ['drinks', 'craft_beer', 'social']}, {'id': 'food004', 'name': 'Peranakan Cooking Workshop', 'category': 'food', 'subcategory': 'cooking_class', 'description': 'Learn to cook traditional Nyonya dishes', 'location': 'Cooking Palette', 'area': 'Katong', 'price_range': '$$$', 'actual_price': 150, 'duration_hours': 4, 'suitable_for': ['adults'], 'intensity_level': 'moderate', 'tags': ['cooking', 'peranakan', 'cultural']}, {'id': 'food005', 'name': 'Wine and Cheese Night', 'category': 'food', 'subcategory': 'tasting', 'description': 'Curated wine and cheese pairing experience', 'location': 'La Terre', 'area': 'Dempsey', 'price_range': '$$$', 'actual_price': 95, 'duration_hours': 2.5, 'suitable_for': ['adults'], 'intensity_level': 'low', 'tags': ['wine', 'cheese', 'luxury']}, {'id': 'art001', 'name': 'Watercolor Painting Class', 'category': 'arts', 'subcategory': 'painting', 'description': 'Learn watercolor techniques for beginners', 'location': 'Visual Arts Centre', 'area': 'Dhoby Ghaut', 'price_range': '$$', 'actual_price': 65, 'duration_hours': 3, 'suitable_for': ['beginners', 'all_ages'], 'intensity_level': 'low', 'tags': ['art', 'painting', 'creative']}, {'id': 'art002', 'name': 'Pottery Workshop', 'category': 'arts', 'subcategory': 'ceramics', 'description': 'Hand-building and wheel-throwing basics', 'location': 'Thow Kwang Pottery', 'area': 'Jurong', 'price_range': '$$', 'actual_price': 85, 'duration_hours': 2.5, 'suitable_for': ['beginners', 'all_ages'], 'intensity_level': 'low', 'tags': ['pottery', 'crafts', 'hands-on']}, {'id': 'adventure001', 'name': 'Forest Adventure Course', 'category': 'adventure', 'subcategory': 'outdoor_sports', 'description': 'Treetop obstacle course and zip lines', 'location': 'Bedok Reservoir', 'area': 'East', 'price_range': '$$', 'actual_price': 50, 'duration_hours': 3, 'suitable_for': ['young_adults', 'adults'], 'intensity_level': 'high', 'tags': ['adventure', 'outdoor', 'sports']}, {'id': 'wellness001', 'name': 'Sunset Yoga', 'category': 'wellness', 'subcategory': 'yoga', 'description': 'Outdoor yoga session with marina bay views', 'location': 'Marina Barrage', 'area': 'Marina Bay', 'price_range': '$', 'actual_price': 25, 'duration_hours': 1, 'suitable_for': ['all_ages'], 'intensity_level': 'moderate', 'tags': ['yoga', 'outdoor', 'wellness']}, {'id': 'tech001', 'name': 'AI Workshop', 'category': 'technology', 'subcategory': 'workshop', 'description': 'Introduction to artificial intelligence and machine learning', 'location': 'General Assembly', 'area': 'Tanjong Pagar', 'price_range': '$$$', 'actual_price': 200, 'duration_hours': 6, 'suitable_for': ['young_adults', 'professionals'], 'intensity_level': 'low', 'tags': ['technology', 'education', 'AI']}, {'id': 'music001', 'name': 'Jazz by the Bay', 'category': 'music', 'subcategory': 'jazz', 'description': \"Live jazz performance with Singapore's top musicians\", 'location': 'Esplanade Outdoor Theatre', 'area': 'Marina Bay', 'price_range': 'free', 'actual_price': 0, 'duration_hours': 2, 'suitable_for': ['all_ages'], 'intensity_level': 'low', 'tags': ['music', 'jazz', 'outdoor', 'free']}, {'id': 'nature001', 'name': 'MacRitchie Tree Top Walk', 'category': 'nature', 'subcategory': 'hiking', 'description': 'Guided nature walk including the famous suspension bridge', 'location': 'MacRitchie Reservoir', 'area': 'Central', 'price_range': '$', 'actual_price': 15, 'duration_hours': 3, 'suitable_for': ['active_people'], 'intensity_level': 'moderate', 'tags': ['nature', 'hiking', 'outdoor']}, {'id': 'culture001', 'name': 'Traditional Tea Ceremony', 'category': 'culture', 'subcategory': 'traditional', 'description': 'Learn Chinese tea ceremony traditions', 'location': 'Tea Chapter', 'area': 'Chinatown', 'price_range': '$$', 'actual_price': 88, 'duration_hours': 1.5, 'suitable_for': ['all_ages'], 'intensity_level': 'low', 'tags': ['culture', 'tea', 'traditional']}, {'id': 'sport001', 'name': 'Stand-Up Paddling', 'category': 'sports', 'subcategory': 'water_sports', 'description': 'SUP basics lesson for beginners', 'location': 'Pasir Ris Beach', 'area': 'East', 'price_range': '$$', 'actual_price': 75, 'duration_hours': 2, 'suitable_for': ['active_people'], 'intensity_level': 'moderate', 'tags': ['water_sports', 'beach', 'outdoor']}, {'id': 'theater001', 'name': 'Interactive Theater Experience', 'category': 'theater', 'subcategory': 'experimental', 'description': 'Immersive theater performance where audience becomes part of the story', 'location': 'Drama Centre', 'area': 'National Library', 'price_range': '$$', 'actual_price': 65, 'duration_hours': 2, 'suitable_for': ['young_adults', 'adults'], 'intensity_level': 'moderate', 'tags': ['theater', 'interactive', 'arts', 'culture']}, {'id': 'climbing001', 'name': 'Indoor Rock Climbing', 'category': 'sports', 'subcategory': 'climbing', 'description': \"Beginner's climbing session with certified instructors\", 'location': 'Boulder Movement', 'area': 'Downtown', 'price_range': '$$', 'actual_price': 55, 'duration_hours': 2, 'suitable_for': ['active_people'], 'intensity_level': 'high', 'tags': ['sports', 'climbing', 'indoor', 'fitness']}, {'id': 'photo001', 'name': 'Street Photography Walk', 'category': 'photography', 'subcategory': 'street', 'description': 'Guided photography session through historic neighborhoods', 'location': 'Kampong Glam', 'area': 'Arab Street', 'price_range': '$$', 'actual_price': 80, 'duration_hours': 3, 'suitable_for': ['photography_enthusiasts'], 'intensity_level': 'low', 'tags': ['photography', 'culture', 'walking', 'historic']}, {'id': 'craft001', 'name': 'Batik Painting Workshop', 'category': 'crafts', 'subcategory': 'traditional', 'description': 'Learn traditional batik painting techniques', 'location': 'Craft Haven', 'area': 'Katong', 'price_range': '$$', 'actual_price': 95, 'duration_hours': 3, 'suitable_for': ['all_ages'], 'intensity_level': 'low', 'tags': ['crafts', 'traditional', 'art', 'cultural']}, {'id': 'wellness002', 'name': 'Sound Bath Meditation', 'category': 'wellness', 'subcategory': 'meditation', 'description': 'Relaxing sound healing session with singing bowls', 'location': 'Pure Yoga', 'area': 'Suntec City', 'price_range': '$$', 'actual_price': 45, 'duration_hours': 1, 'suitable_for': ['all_ages'], 'intensity_level': 'low', 'tags': ['wellness', 'meditation', 'relaxation']}, {'id': 'tech002', 'name': 'VR Gaming Experience', 'category': 'technology', 'subcategory': 'gaming', 'description': 'Virtual reality gaming sessions with latest equipment', 'location': 'Virtual Room', 'area': 'Clarke Quay', 'price_range': '$$', 'actual_price': 49, 'duration_hours': 1, 'suitable_for': ['young_adults'], 'intensity_level': 'moderate', 'tags': ['gaming', 'technology', 'entertainment']}, {'id': 'nature002', 'name': 'Night Wildlife Tour', 'category': 'nature', 'subcategory': 'wildlife', 'description': 'Guided tour to spot nocturnal animals', 'location': 'Sungei Buloh', 'area': 'North', 'price_range': '$$', 'actual_price': 40, 'duration_hours': 2, 'suitable_for': ['nature_lovers'], 'intensity_level': 'low', 'tags': ['nature', 'wildlife', 'night_activity']}, {'id': 'museum001', 'name': 'Interactive Art Exhibition', 'category': 'arts', 'subcategory': 'exhibition', 'description': 'Contemporary interactive art installations', 'location': 'ArtScience Museum', 'area': 'Marina Bay', 'price_range': '$$', 'actual_price': 42, 'duration_hours': 2, 'suitable_for': ['all_ages'], 'intensity_level': 'low', 'tags': ['art', 'museum', 'interactive', 'indoor']}, {'id': 'sport002', 'name': 'Kayaking Expedition', 'category': 'sports', 'subcategory': 'water_sports', 'description': 'Guided kayaking tour around Pulau Ubin', 'location': 'Pulau Ubin', 'area': 'East', 'price_range': '$$', 'actual_price': 85, 'duration_hours': 4, 'suitable_for': ['active_people'], 'intensity_level': 'high', 'tags': ['water_sports', 'adventure', 'nature']}, {'id': 'dance006', 'name': 'Urban Dance Choreography', 'category': 'dance', 'subcategory': 'urban', 'description': 'Learn trending urban dance routines', 'location': 'Steps Dance Studio', 'area': 'Bugis', 'price_range': '$$', 'actual_price': 40, 'duration_hours': 1.5, 'suitable_for': ['young_adults'], 'intensity_level': 'high', 'tags': ['dance', 'urban', 'contemporary']}, {'id': 'food006', 'name': 'Molecular Gastronomy Workshop', 'category': 'food', 'subcategory': 'cooking_class', 'description': 'Learn modern cooking techniques and food science', 'location': 'At-Sunrice GlobalChef Academy', 'area': 'Tai Seng', 'price_range': '$$$', 'actual_price': 180, 'duration_hours': 4, 'suitable_for': ['adults'], 'intensity_level': 'moderate', 'tags': ['cooking', 'science', 'modern']}, {'id': 'adventure002', 'name': 'Indoor Skydiving', 'category': 'adventure', 'subcategory': 'extreme_sports', 'description': 'Experience freefall in controlled environment', 'location': 'iFly Singapore', 'area': 'Sentosa', 'price_range': '$$$', 'actual_price': 119, 'duration_hours': 2, 'suitable_for': ['thrill_seekers'], 'intensity_level': 'high', 'tags': ['adventure', 'extreme_sports', 'indoor']}, {'id': 'culture002', 'name': 'Traditional Shadow Puppetry', 'category': 'culture', 'subcategory': 'performance', 'description': 'Watch and learn Wayang Kulit traditional puppetry', 'location': 'Malay Heritage Centre', 'area': 'Kampong Glam', 'price_range': '$', 'actual_price': 25, 'duration_hours': 2, 'suitable_for': ['all_ages'], 'intensity_level': 'low', 'tags': ['culture', 'traditional', 'performance']}, {'id': 'tech003', 'name': 'Drone Photography Course', 'category': 'technology', 'subcategory': 'photography', 'description': 'Learn aerial photography with professional drones', 'location': 'Fort Canning Park', 'area': 'Central', 'price_range': '$$$', 'actual_price': 250, 'duration_hours': 4, 'suitable_for': ['adults'], 'intensity_level': 'moderate', 'tags': ['technology', 'photography', 'outdoor']}, {'id': 'wellness003', 'name': 'Forest Bathing Session', 'category': 'wellness', 'subcategory': 'nature_therapy', 'description': 'Guided mindful nature walk in forest reserve', 'location': 'Windsor Nature Park', 'area': 'Central', 'price_range': '$$', 'actual_price': 45, 'duration_hours': 2, 'suitable_for': ['all_ages'], 'intensity_level': 'low', 'tags': ['wellness', 'nature', 'mindfulness']}, {'id': 'music002', 'name': 'DJ Mixing Workshop', 'category': 'music', 'subcategory': 'electronic', 'description': 'Learn basics of DJ mixing and music production', 'location': 'Sync Studios', 'area': 'Clarke Quay', 'price_range': '$$$', 'actual_price': 150, 'duration_hours': 3, 'suitable_for': ['young_adults'], 'intensity_level': 'low', 'tags': ['music', 'electronic', 'workshop']}, {'id': 'art003', 'name': 'Digital Art Creation', 'category': 'arts', 'subcategory': 'digital', 'description': 'Create digital artwork using professional tablets', 'location': 'PIXEL Studios', 'area': 'one-north', 'price_range': '$$', 'actual_price': 90, 'duration_hours': 3, 'suitable_for': ['young_adults'], 'intensity_level': 'low', 'tags': ['art', 'digital', 'creative', 'technology']}, {'id': 'fitness001', 'name': 'HIIT Beach Workout', 'category': 'fitness', 'subcategory': 'high_intensity', 'description': 'High-intensity interval training on the beach', 'location': 'Tanjong Beach', 'area': 'Sentosa', 'price_range': '$$', 'actual_price': 35, 'duration_hours': 1, 'suitable_for': ['active_people'], 'intensity_level': 'high', 'tags': ['fitness', 'beach', 'outdoor', 'workout']}, {'id': 'theatre002', 'name': 'Improv Comedy Night', 'category': 'theatre', 'subcategory': 'comedy', 'description': 'Interactive improvisational comedy show', 'location': 'The Improv Company', 'area': 'Orchard', 'price_range': '$$', 'actual_price': 30, 'duration_hours': 2, 'suitable_for': ['young_adults', 'adults'], 'intensity_level': 'low', 'tags': ['comedy', 'theatre', 'entertainment']}, {'id': 'craft002', 'name': 'Terrarium Building', 'category': 'crafts', 'subcategory': 'gardening', 'description': 'Create your own miniature garden ecosystem', 'location': 'The Plant Story', 'area': 'Tiong Bahru', 'price_range': '$$', 'actual_price': 85, 'duration_hours': 2, 'suitable_for': ['all_ages'], 'intensity_level': 'low', 'tags': ['crafts', 'nature', 'gardening']}, {'id': 'food007', 'name': 'Local Dessert Making', 'category': 'food', 'subcategory': 'cooking_class', 'description': 'Learn to make traditional Singapore desserts', 'location': 'Baking Studio', 'area': 'Novena', 'price_range': '$$', 'actual_price': 95, 'duration_hours': 3, 'suitable_for': ['all_ages'], 'intensity_level': 'low', 'tags': ['cooking', 'local', 'desserts']}, {'id': 'adventure003', 'name': 'Night Cycling Tour', 'category': 'adventure', 'subcategory': 'cycling', 'description': 'Guided cycling tour of Singapore by night', 'location': 'East Coast Park', 'area': 'East Coast', 'price_range': '$$', 'actual_price': 45, 'duration_hours': 3, 'suitable_for': ['active_people'], 'intensity_level': 'moderate', 'tags': ['cycling', 'night_activity', 'outdoor']}, {'id': 'wellness004', 'name': 'Aromatherapy Workshop', 'category': 'wellness', 'subcategory': 'aromatherapy', 'description': 'Create your own essential oil blends', 'location': 'Wellness Studio', 'area': 'Holland Village', 'price_range': '$$$', 'actual_price': 120, 'duration_hours': 2, 'suitable_for': ['adults'], 'intensity_level': 'low', 'tags': ['wellness', 'aromatherapy', 'diy']}, {'id': 'photo002', 'name': 'Food Photography Workshop', 'category': 'photography', 'subcategory': 'food', 'description': 'Learn professional food photography techniques', 'location': 'Studio Botanica', 'area': 'Joo Chiat', 'price_range': '$$$', 'actual_price': 180, 'duration_hours': 4, 'suitable_for': ['photography_enthusiasts'], 'intensity_level': 'low', 'tags': ['photography', 'food', 'creative']}, {'id': 'dance007', 'name': 'Contemporary Jazz Fusion', 'category': 'dance', 'subcategory': 'jazz_fusion', 'description': 'Contemporary jazz mixed with modern dance elements', 'location': 'Dance District', 'area': 'Tanjong Pagar', 'price_range': '$$', 'actual_price': 45, 'duration_hours': 1.5, 'suitable_for': ['young_adults', 'intermediate_dancers'], 'intensity_level': 'high', 'tags': ['dance', 'jazz', 'contemporary', 'fusion']}, {'id': 'dance008', 'name': 'Dancehall Workshop', 'category': 'dance', 'subcategory': 'dancehall', 'description': 'High-energy Jamaican dancehall class', 'location': 'Legacy Dance Co.', 'area': 'Bugis', 'price_range': '$', 'actual_price': 35, 'duration_hours': 1.5, 'suitable_for': ['young_adults'], 'intensity_level': 'high', 'tags': ['dance', 'dancehall', 'caribbean']}, {'id': 'museum002', 'name': 'Digital Light Canvas Show', 'category': 'arts', 'subcategory': 'digital_art', 'description': 'Interactive digital art installation with light and sound', 'location': 'Marina Bay Sands', 'area': 'Marina Bay', 'price_range': '$', 'actual_price': 5, 'duration_hours': 0.5, 'suitable_for': ['all_ages'], 'intensity_level': 'low', 'tags': ['art', 'digital', 'interactive']}, {'id': 'sport003', 'name': 'Sunset Sailing Experience', 'category': 'sports', 'subcategory': 'sailing', 'description': \"Evening sail around Singapore's southern islands\", 'location': 'ONE°15 Marina', 'area': 'Sentosa', 'price_range': '$$$', 'actual_price': 150, 'duration_hours': 3, 'suitable_for': ['young_adults', 'adults'], 'intensity_level': 'low', 'tags': ['sailing', 'sunset', 'luxury']}, {'id': 'tech004', 'name': '3D Printing Workshop', 'category': 'technology', 'subcategory': 'making', 'description': 'Learn 3D modeling and printing basics', 'location': 'Makerspace', 'area': 'one-north', 'price_range': '$$', 'actual_price': 80, 'duration_hours': 3, 'suitable_for': ['young_adults'], 'intensity_level': 'low', 'tags': ['technology', 'making', 'creative']}, {'id': 'dance009', 'name': 'Dance Fitness Party', 'category': 'dance', 'subcategory': 'fitness', 'description': 'High-energy dance workout combining multiple styles', 'location': 'True Fitness', 'area': 'Suntec City', 'price_range': '$', 'actual_price': 30, 'duration_hours': 1, 'suitable_for': ['young_adults'], 'intensity_level': 'high', 'tags': ['dance', 'fitness', 'workout']}, {'id': 'art004', 'name': 'Neon Light Art Creation', 'category': 'arts', 'subcategory': 'mixed_media', 'description': 'Create your own neon-style LED art piece', 'location': 'Art Glass Studio', 'area': 'Kallang', 'price_range': '$$$', 'actual_price': 160, 'duration_hours': 3, 'suitable_for': ['young_adults', 'adults'], 'intensity_level': 'low', 'tags': ['art', 'crafts', 'light_art']}, {'id': 'dance010', 'name': 'Commercial Dance Workshop', 'category': 'dance', 'subcategory': 'commercial', 'description': 'Learn dance routines from popular music videos', 'location': 'Recognize Studios', 'area': 'Tai Seng', 'price_range': '$$', 'actual_price': 50, 'duration_hours': 2, 'suitable_for': ['young_adults'], 'intensity_level': 'high', 'tags': ['dance', 'commercial', 'pop']}, {'id': 'dance011', 'name': 'Urban Choreography Jam', 'category': 'dance', 'subcategory': 'urban', 'description': 'Open dance session with freestyle and battles', 'location': 'The Mega Dance Complex', 'area': 'Jurong East', 'price_range': '$', 'actual_price': 20, 'duration_hours': 3, 'suitable_for': ['young_adults', 'dancers'], 'intensity_level': 'high', 'tags': ['dance', 'urban', 'freestyle', 'battles']}, {'id': 'culture003', 'name': 'Night Street Culture Tour', 'category': 'culture', 'subcategory': 'street_culture', 'description': \"Explore street art, music, and dance in Singapore's hippest neighborhoods\", 'location': 'Various Locations', 'area': 'Multiple', 'price_range': '$$', 'actual_price': 65, 'duration_hours': 3, 'suitable_for': ['young_adults'], 'intensity_level': 'moderate', 'tags': ['culture', 'street_art', 'urban_exploration']}, {'id': 'music003', 'name': 'Live Music & Dance Night', 'category': 'music', 'subcategory': 'live_music', 'description': 'Live band performance with dance floor', 'location': 'Timbre+', 'area': 'one-north', 'price_range': '$$', 'actual_price': 30, 'duration_hours': 4, 'suitable_for': ['young_adults'], 'intensity_level': 'moderate', 'tags': ['music', 'dance', 'nightlife', 'social']}, {'id': 'adventure004', 'name': 'Parkour Basics', 'category': 'adventure', 'subcategory': 'parkour', 'description': 'Learn fundamental parkour movements and techniques', 'location': 'Move Academy', 'area': 'Kallang', 'price_range': '$$', 'actual_price': 70, 'duration_hours': 2, 'suitable_for': ['young_adults', 'active_people'], 'intensity_level': 'high', 'tags': ['parkour', 'movement', 'fitness']}, {'id': 'social001', 'name': 'Social Dancing Mixer', 'category': 'social', 'subcategory': 'dance_social', 'description': 'Mixed style social dancing event with mini-lessons', 'location': 'Dance Sport Academy', 'area': 'Clarke Quay', 'price_range': '$', 'actual_price': 25, 'duration_hours': 3, 'suitable_for': ['young_adults', 'adults'], 'intensity_level': 'moderate', 'tags': ['dance', 'social', 'multiple_styles']}, {'id': 'wellness005', 'name': 'Dance Meditation', 'category': 'wellness', 'subcategory': 'movement_meditation', 'description': 'Combine mindful movement with meditation', 'location': 'Soul Dance Studio', 'area': 'Robertson Quay', 'price_range': '$$', 'actual_price': 40, 'duration_hours': 1.5, 'suitable_for': ['all_ages'], 'intensity_level': 'moderate', 'tags': ['dance', 'meditation', 'wellness', 'mindful_movement']}, {'id': 'dance012', 'name': 'Voguing Masterclass', 'category': 'dance', 'subcategory': 'vogue', 'description': 'Learn the art of voguing with professional dancers', 'location': 'YMCA Dance Studio', 'area': 'Orchard', 'price_range': '$$', 'actual_price': 75, 'duration_hours': 2, 'suitable_for': ['young_adults'], 'intensity_level': 'high', 'tags': ['dance', 'vogue', 'style', 'fashion']}, {'id': 'dance013', 'name': 'Breaking Fundamentals', 'category': 'dance', 'subcategory': 'breakdance', 'description': 'Learn basic breaking moves and power moves', 'location': 'Breakerfam Studio', 'area': 'Geylang', 'price_range': '$$', 'actual_price': 55, 'duration_hours': 2, 'suitable_for': ['young_adults', 'beginners'], 'intensity_level': 'high', 'tags': ['dance', 'breaking', 'hiphop', 'street']}, {'id': 'festival001', 'name': 'Dance Film Festival', 'category': 'film', 'subcategory': 'dance_film', 'description': 'Screening of international dance films and documentaries', 'location': 'The Projector', 'area': 'Golden Mile', 'price_range': '$$', 'actual_price': 35, 'duration_hours': 3, 'suitable_for': ['all_ages'], 'intensity_level': 'low', 'tags': ['dance', 'film', 'arts', 'culture']}, {'id': 'photo003', 'name': 'Dance Photography Session', 'category': 'photography', 'subcategory': 'dance_photography', 'description': 'Learn to capture dynamic dance movements on camera', 'location': 'Moving Arts Photography', 'area': 'Lavender', 'price_range': '$$$', 'actual_price': 180, 'duration_hours': 4, 'suitable_for': ['photographers', 'dancers'], 'intensity_level': 'moderate', 'tags': ['photography', 'dance', 'art']}, {'id': 'tech005', 'name': 'Motion Capture Workshop', 'category': 'technology', 'subcategory': 'motion_capture', 'description': 'Experience professional motion capture technology for dance', 'location': 'DigiPen Singapore', 'area': 'one-north', 'price_range': '$$$', 'actual_price': 200, 'duration_hours': 3, 'suitable_for': ['dancers', 'tech_enthusiasts'], 'intensity_level': 'moderate', 'tags': ['technology', 'dance', 'digital']}, {'id': 'fashion001', 'name': 'Dance Fashion Styling', 'category': 'fashion', 'subcategory': 'styling', 'description': 'Learn to style outfits for different dance styles and performances', 'location': 'Style Theory Studio', 'area': 'Orchard', 'price_range': '$$', 'actual_price': 120, 'duration_hours': 3, 'suitable_for': ['young_adults', 'dancers'], 'intensity_level': 'low', 'tags': ['fashion', 'dance', 'style', 'workshop']}, {'id': 'wellness006', 'name': 'Dance Injury Prevention', 'category': 'wellness', 'subcategory': 'health', 'description': 'Workshop on proper technique and injury prevention for dancers', 'location': 'Core Fitness', 'area': 'Novena', 'price_range': '$$', 'actual_price': 85, 'duration_hours': 2, 'suitable_for': ['dancers'], 'intensity_level': 'low', 'tags': ['wellness', 'dance', 'health', 'education']}, {'id': 'dance014', 'name': 'Heels Dance Class', 'category': 'dance', 'subcategory': 'heels', 'description': 'Learn choreography and confidence in heels', 'location': 'Diva Dance Studio', 'area': 'Clarke Quay', 'price_range': '$$', 'actual_price': 45, 'duration_hours': 1.5, 'suitable_for': ['young_adults'], 'intensity_level': 'moderate', 'tags': ['dance', 'heels', 'confidence', 'style']}, {'id': 'dance015', 'name': 'Dance Improvisation Lab', 'category': 'dance', 'subcategory': 'improvisation', 'description': 'Explore freestyle movement and dance improvisation techniques', 'location': 'The Space Dance Studio', 'area': 'Bras Basah', 'price_range': '$$', 'actual_price': 40, 'duration_hours': 2, 'suitable_for': ['dancers'], 'intensity_level': 'moderate', 'tags': ['dance', 'improvisation', 'creative']}, {'id': 'music004', 'name': 'Music Production for Dancers', 'category': 'music', 'subcategory': 'production', 'description': 'Learn to edit and mix music for dance performances', 'location': \"Beat'abox Studio\", 'area': 'Tai Seng', 'price_range': '$$$', 'actual_price': 160, 'duration_hours': 4, 'suitable_for': ['dancers', 'music_enthusiasts'], 'intensity_level': 'low', 'tags': ['music', 'production', 'dance', 'tech']}, {'id': 'performance001', 'name': 'Open Stage Night', 'category': 'performance', 'subcategory': 'showcase', 'description': 'Open stage for dancers to perform and share work', 'location': 'The Substation', 'area': 'Armenian Street', 'price_range': '$', 'actual_price': 15, 'duration_hours': 3, 'suitable_for': ['performers', 'arts_enthusiasts'], 'intensity_level': 'moderate', 'tags': ['performance', 'dance', 'showcase', 'community']}, {'id': 'social002', 'name': 'Dance Community Meetup', 'category': 'social', 'subcategory': 'networking', 'description': 'Casual meetup for dancers to connect and share experiences', 'location': 'Working Title', 'area': 'Arab Street', 'price_range': '$', 'actual_price': 10, 'duration_hours': 2, 'suitable_for': ['dancers', 'young_adults'], 'intensity_level': 'low', 'tags': ['social', 'networking', 'dance', 'community']}, {'id': 'art005', 'name': 'Movement Drawing Class', 'category': 'arts', 'subcategory': 'drawing', 'description': 'Learn to sketch movement and dance poses', 'location': 'LASALLE College', 'area': 'Rochor', 'price_range': '$$', 'actual_price': 75, 'duration_hours': 3, 'suitable_for': ['artists', 'dancers'], 'intensity_level': 'low', 'tags': ['art', 'drawing', 'dance', 'movement']}, {'id': 'fashion002', 'name': 'Dance Costume Design', 'category': 'fashion', 'subcategory': 'costume_design', 'description': 'Workshop on designing and creating dance costumes', 'location': 'NAFA Design Studio', 'area': 'Bencoolen', 'price_range': '$$$', 'actual_price': 180, 'duration_hours': 4, 'suitable_for': ['designers', 'dancers'], 'intensity_level': 'moderate', 'tags': ['fashion', 'design', 'dance', 'costume']}]}\n"
     ]
    }
   ],
   "source": [
    "import json\n",
    "from pathlib import Path\n",
    "\n",
    "def read_json(file_path=Path('../assets/datasets/singapore.json')):\n",
    "\twith open(file_path, 'r') as file:\n",
    "\t\tevents = json.load(file)\n",
    "\treturn events\n",
    "\n",
    "events = read_json()\n",
    "print(events)"
   ]
  },
  {
   "cell_type": "markdown",
   "metadata": {},
   "source": [
    "## DO THIS ONE TIME, TO INITIALISE DATABASE"
   ]
  },
  {
   "cell_type": "code",
   "execution_count": 17,
   "metadata": {},
   "outputs": [],
   "source": [
    "'''\n",
    "# Creates qdrant vector database instance\n",
    "qdrant_client.create_collection(\n",
    "    collection_name=\"singapore_events\",\n",
    "    vectors_config=models.VectorParams(size=1536, distance=models.Distance.COSINE)\n",
    ")\n",
    "\n",
    "# Convert the session metadata into embeddings\n",
    "embeddings = {}\n",
    "\n",
    "# Iterate through each session\n",
    "for event in events['events']:\n",
    "    # Convert event data to string for embedding\n",
    "    event_text = f\"\"\"\n",
    "    Name: {event['name']}\n",
    "    Category: {event['category']}\n",
    "    Subcategory: {event['subcategory']}\n",
    "    Description: {event['description']}\n",
    "    Location: {event['location']}\n",
    "    Area: {event['area']}\n",
    "    Price Range: {event['price_range']}\n",
    "    Duration: {event['duration_hours']} hours\n",
    "    Suitable For: {', '.join(event['suitable_for'])}\n",
    "    Intensity Level: {event['intensity_level']}\n",
    "    Tags: {', '.join(event['tags'])}\n",
    "    \"\"\"\n",
    "\n",
    "    embedding = text_to_embedding(event_text)\n",
    "    embeddings[event['id']] = {\n",
    "        'metadata': event,\n",
    "        'embedding': embedding\n",
    "    }\n",
    "\n",
    "# Upload vector embeddings into QDRANT DB\n",
    "from datetime import datetime\n",
    "\n",
    "# Iterate through each event and its embedding\n",
    "for idx, (event_id, event_data) in enumerate(embeddings.items()):\n",
    "    qdrant_client.upsert(\n",
    "        collection_name=COLLECTION_NAME,\n",
    "        points=[\n",
    "            models.PointStruct(\n",
    "                id=idx,  # Using index as ID\n",
    "                payload={\n",
    "                    \"event_id\": event_id,\n",
    "                    \"name\": event_data[\"metadata\"][\"name\"],\n",
    "                    \"category\": event_data[\"metadata\"][\"category\"],\n",
    "                    \"subcategory\": event_data[\"metadata\"][\"subcategory\"],\n",
    "                    \"description\": event_data[\"metadata\"][\"description\"],\n",
    "                    \"location\": event_data[\"metadata\"][\"location\"],\n",
    "                    \"area\": event_data[\"metadata\"][\"area\"],\n",
    "                    \"price_range\": event_data[\"metadata\"][\"price_range\"],\n",
    "                    \"actual_price\": event_data[\"metadata\"][\"actual_price\"],\n",
    "                    \"duration_hours\": event_data[\"metadata\"][\"duration_hours\"],\n",
    "                    \"suitable_for\": event_data[\"metadata\"][\"suitable_for\"],\n",
    "                    \"intensity_level\": event_data[\"metadata\"][\"intensity_level\"],\n",
    "                    \"tags\": event_data[\"metadata\"][\"tags\"],\n",
    "                    \"created_at\": datetime.now().isoformat()\n",
    "                },\n",
    "                vector=event_data[\"embedding\"]\n",
    "            )\n",
    "        ]\n",
    "    )\n",
    "'''"
   ]
  },
  {
   "cell_type": "markdown",
   "metadata": {},
   "source": [
    "Now that the vector database has been successfully setup, lets test the similarity of a session with other sessions."
   ]
  },
  {
   "cell_type": "code",
   "execution_count": 26,
   "metadata": {},
   "outputs": [
    {
     "name": "stdout",
     "output_type": "stream",
     "text": [
      "[{'event_id': 'dance006', 'name': 'Urban Dance Choreography', 'category': 'dance', 'subcategory': 'urban', 'description': 'Learn trending urban dance routines', 'location': 'Steps Dance Studio', 'area': 'Bugis', 'price_range': '$$', 'actual_price': 40, 'duration_hours': 1.5, 'suitable_for': ['young_adults'], 'intensity_level': 'high', 'tags': ['dance', 'urban', 'contemporary'], 'created_at': '2024-12-23T20:31:36.886075'}, {'event_id': 'fashion001', 'name': 'Dance Fashion Styling', 'category': 'fashion', 'subcategory': 'styling', 'description': 'Learn to style outfits for different dance styles and performances', 'location': 'Style Theory Studio', 'area': 'Orchard', 'price_range': '$$', 'actual_price': 120, 'duration_hours': 3, 'suitable_for': ['young_adults', 'dancers'], 'intensity_level': 'low', 'tags': ['fashion', 'dance', 'style', 'workshop'], 'created_at': '2024-12-23T20:31:42.804780'}, {'event_id': 'dance014', 'name': 'Heels Dance Class', 'category': 'dance', 'subcategory': 'heels', 'description': 'Learn choreography and confidence in heels', 'location': 'Diva Dance Studio', 'area': 'Clarke Quay', 'price_range': '$$', 'actual_price': 45, 'duration_hours': 1.5, 'suitable_for': ['young_adults'], 'intensity_level': 'moderate', 'tags': ['dance', 'heels', 'confidence', 'style'], 'created_at': '2024-12-23T20:31:43.189157'}, {'event_id': 'photo003', 'name': 'Dance Photography Session', 'category': 'photography', 'subcategory': 'dance_photography', 'description': 'Learn to capture dynamic dance movements on camera', 'location': 'Moving Arts Photography', 'area': 'Lavender', 'price_range': '$$$', 'actual_price': 180, 'duration_hours': 4, 'suitable_for': ['photographers', 'dancers'], 'intensity_level': 'moderate', 'tags': ['photography', 'dance', 'art'], 'created_at': '2024-12-23T20:31:42.468041'}, {'event_id': 'social001', 'name': 'Social Dancing Mixer', 'category': 'social', 'subcategory': 'dance_social', 'description': 'Mixed style social dancing event with mini-lessons', 'location': 'Dance Sport Academy', 'area': 'Clarke Quay', 'price_range': '$', 'actual_price': 25, 'duration_hours': 3, 'suitable_for': ['young_adults', 'adults'], 'intensity_level': 'moderate', 'tags': ['dance', 'social', 'multiple_styles'], 'created_at': '2024-12-23T20:31:41.544161'}]\n"
     ]
    }
   ],
   "source": [
    "test_prompt = 'I want a to dance.'\n",
    "recommendations = fetch_recommended_entities(test_prompt)\n",
    "\n",
    "print(recommendations)"
   ]
  }
 ],
 "metadata": {
  "kernelspec": {
   "display_name": "myvenv",
   "language": "python",
   "name": "python3"
  },
  "language_info": {
   "codemirror_mode": {
    "name": "ipython",
    "version": 3
   },
   "file_extension": ".py",
   "mimetype": "text/x-python",
   "name": "python",
   "nbconvert_exporter": "python",
   "pygments_lexer": "ipython3",
   "version": "3.11.0"
  }
 },
 "nbformat": 4,
 "nbformat_minor": 2
}
